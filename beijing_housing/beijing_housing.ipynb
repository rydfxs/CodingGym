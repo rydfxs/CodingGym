{
 "cells": [
  {
   "cell_type": "markdown",
   "metadata": {},
   "source": [
    "### 预测北京房价\n",
    "\n",
    "\n",
    "免责声明：考虑到北京房价受到宏观经济、政策调整等众多因素的直接影响，预测结果仅供参考。\n",
    "\n",
    "这个数据集的特征有：\n",
    "- Area：房屋面积，平方米\n",
    "- Room：房间数，间\n",
    "- Living: 厅数，间\n",
    "- School: 是否为学区房，0或1\n",
    "- Year: 房屋建造时间，年\n",
    "- Floor: 房屋所处楼层，层\n",
    "\n",
    "目标变量：\n",
    "- Value: 房屋人民币售价，万\n",
    "\n",
    "你可以参考上面学到的内容，拿这个数据集来练习数据分割与重排、定义衡量标准、训练模型、评价模型表现、使用交叉验证对参数进行调优并选出最佳参数，比较两者的差别，最终得出最佳模型对验证集的预测分数。"
   ]
  },
  {
   "cell_type": "markdown",
   "metadata": {},
   "source": [
    "###  导入数据"
   ]
  },
  {
   "cell_type": "code",
   "execution_count": 8,
   "metadata": {
    "collapsed": false,
    "scrolled": true
   },
   "outputs": [],
   "source": [
    "import numpy as np\n",
    "import pandas as pd\n",
    "import matplotlib.pyplot as plt\n",
    "from sklearn.cross_validation import ShuffleSplit\n",
    "\n",
    "# Pretty display for notebooks\n",
    "%matplotlib inline\n",
    "\n",
    "pk_house = pd.read_csv('bj_housing.csv')"
   ]
  },
  {
   "cell_type": "markdown",
   "metadata": {},
   "source": [
    "### 快速观察数据"
   ]
  },
  {
   "cell_type": "code",
   "execution_count": 9,
   "metadata": {
    "collapsed": false
   },
   "outputs": [
    {
     "data": {
      "text/html": [
       "<div>\n",
       "<table border=\"1\" class=\"dataframe\">\n",
       "  <thead>\n",
       "    <tr style=\"text-align: right;\">\n",
       "      <th></th>\n",
       "      <th>Area</th>\n",
       "      <th>Value</th>\n",
       "      <th>Room</th>\n",
       "      <th>Living</th>\n",
       "      <th>School</th>\n",
       "      <th>Year</th>\n",
       "      <th>Floor</th>\n",
       "    </tr>\n",
       "  </thead>\n",
       "  <tbody>\n",
       "    <tr>\n",
       "      <th>0</th>\n",
       "      <td>128</td>\n",
       "      <td>370</td>\n",
       "      <td>3</td>\n",
       "      <td>1</td>\n",
       "      <td>1</td>\n",
       "      <td>2004</td>\n",
       "      <td>21</td>\n",
       "    </tr>\n",
       "    <tr>\n",
       "      <th>1</th>\n",
       "      <td>68</td>\n",
       "      <td>330</td>\n",
       "      <td>1</td>\n",
       "      <td>2</td>\n",
       "      <td>1</td>\n",
       "      <td>2000</td>\n",
       "      <td>6</td>\n",
       "    </tr>\n",
       "    <tr>\n",
       "      <th>2</th>\n",
       "      <td>125</td>\n",
       "      <td>355</td>\n",
       "      <td>3</td>\n",
       "      <td>2</td>\n",
       "      <td>0</td>\n",
       "      <td>2003</td>\n",
       "      <td>5</td>\n",
       "    </tr>\n",
       "  </tbody>\n",
       "</table>\n",
       "</div>"
      ],
      "text/plain": [
       "   Area  Value  Room  Living  School  Year  Floor\n",
       "0   128    370     3       1       1  2004     21\n",
       "1    68    330     1       2       1  2000      6\n",
       "2   125    355     3       2       0  2003      5"
      ]
     },
     "execution_count": 9,
     "metadata": {},
     "output_type": "execute_result"
    }
   ],
   "source": [
    "pk_house.head(3)"
   ]
  },
  {
   "cell_type": "markdown",
   "metadata": {},
   "source": [
    "### 观察总体的统计属性"
   ]
  },
  {
   "cell_type": "code",
   "execution_count": 10,
   "metadata": {
    "collapsed": false
   },
   "outputs": [
    {
     "data": {
      "text/html": [
       "<div>\n",
       "<table border=\"1\" class=\"dataframe\">\n",
       "  <thead>\n",
       "    <tr style=\"text-align: right;\">\n",
       "      <th></th>\n",
       "      <th>Area</th>\n",
       "      <th>Value</th>\n",
       "      <th>Room</th>\n",
       "      <th>Living</th>\n",
       "      <th>School</th>\n",
       "      <th>Year</th>\n",
       "      <th>Floor</th>\n",
       "    </tr>\n",
       "  </thead>\n",
       "  <tbody>\n",
       "    <tr>\n",
       "      <th>count</th>\n",
       "      <td>9999.000000</td>\n",
       "      <td>9999.000000</td>\n",
       "      <td>9999.000000</td>\n",
       "      <td>9999.000000</td>\n",
       "      <td>9999.000000</td>\n",
       "      <td>9999.000000</td>\n",
       "      <td>9999.000000</td>\n",
       "    </tr>\n",
       "    <tr>\n",
       "      <th>mean</th>\n",
       "      <td>92.003900</td>\n",
       "      <td>342.076208</td>\n",
       "      <td>2.156216</td>\n",
       "      <td>1.277628</td>\n",
       "      <td>0.583958</td>\n",
       "      <td>1998.235524</td>\n",
       "      <td>13.326433</td>\n",
       "    </tr>\n",
       "    <tr>\n",
       "      <th>std</th>\n",
       "      <td>46.263242</td>\n",
       "      <td>259.406028</td>\n",
       "      <td>0.791407</td>\n",
       "      <td>0.524963</td>\n",
       "      <td>0.492925</td>\n",
       "      <td>13.126885</td>\n",
       "      <td>7.953371</td>\n",
       "    </tr>\n",
       "    <tr>\n",
       "      <th>min</th>\n",
       "      <td>14.000000</td>\n",
       "      <td>66.000000</td>\n",
       "      <td>1.000000</td>\n",
       "      <td>0.000000</td>\n",
       "      <td>0.000000</td>\n",
       "      <td>1014.000000</td>\n",
       "      <td>0.000000</td>\n",
       "    </tr>\n",
       "    <tr>\n",
       "      <th>25%</th>\n",
       "      <td>61.000000</td>\n",
       "      <td>205.000000</td>\n",
       "      <td>2.000000</td>\n",
       "      <td>1.000000</td>\n",
       "      <td>0.000000</td>\n",
       "      <td>1993.500000</td>\n",
       "      <td>6.000000</td>\n",
       "    </tr>\n",
       "    <tr>\n",
       "      <th>50%</th>\n",
       "      <td>83.000000</td>\n",
       "      <td>280.000000</td>\n",
       "      <td>2.000000</td>\n",
       "      <td>1.000000</td>\n",
       "      <td>1.000000</td>\n",
       "      <td>2000.000000</td>\n",
       "      <td>12.000000</td>\n",
       "    </tr>\n",
       "    <tr>\n",
       "      <th>75%</th>\n",
       "      <td>110.000000</td>\n",
       "      <td>395.000000</td>\n",
       "      <td>3.000000</td>\n",
       "      <td>2.000000</td>\n",
       "      <td>1.000000</td>\n",
       "      <td>2004.000000</td>\n",
       "      <td>19.000000</td>\n",
       "    </tr>\n",
       "    <tr>\n",
       "      <th>max</th>\n",
       "      <td>1124.000000</td>\n",
       "      <td>7450.000000</td>\n",
       "      <td>9.000000</td>\n",
       "      <td>4.000000</td>\n",
       "      <td>1.000000</td>\n",
       "      <td>2015.000000</td>\n",
       "      <td>91.000000</td>\n",
       "    </tr>\n",
       "  </tbody>\n",
       "</table>\n",
       "</div>"
      ],
      "text/plain": [
       "              Area        Value         Room       Living       School  \\\n",
       "count  9999.000000  9999.000000  9999.000000  9999.000000  9999.000000   \n",
       "mean     92.003900   342.076208     2.156216     1.277628     0.583958   \n",
       "std      46.263242   259.406028     0.791407     0.524963     0.492925   \n",
       "min      14.000000    66.000000     1.000000     0.000000     0.000000   \n",
       "25%      61.000000   205.000000     2.000000     1.000000     0.000000   \n",
       "50%      83.000000   280.000000     2.000000     1.000000     1.000000   \n",
       "75%     110.000000   395.000000     3.000000     2.000000     1.000000   \n",
       "max    1124.000000  7450.000000     9.000000     4.000000     1.000000   \n",
       "\n",
       "              Year        Floor  \n",
       "count  9999.000000  9999.000000  \n",
       "mean   1998.235524    13.326433  \n",
       "std      13.126885     7.953371  \n",
       "min    1014.000000     0.000000  \n",
       "25%    1993.500000     6.000000  \n",
       "50%    2000.000000    12.000000  \n",
       "75%    2004.000000    19.000000  \n",
       "max    2015.000000    91.000000  "
      ]
     },
     "execution_count": 10,
     "metadata": {},
     "output_type": "execute_result"
    }
   ],
   "source": [
    "pk_house.describe()"
   ]
  },
  {
   "cell_type": "markdown",
   "metadata": {},
   "source": [
    "### 统计是否有缺失值"
   ]
  },
  {
   "cell_type": "code",
   "execution_count": 11,
   "metadata": {
    "collapsed": false
   },
   "outputs": [
    {
     "data": {
      "text/plain": [
       "Area      0\n",
       "Value     0\n",
       "Room      0\n",
       "Living    0\n",
       "School    0\n",
       "Year      0\n",
       "Floor     0\n",
       "dtype: int64"
      ]
     },
     "execution_count": 11,
     "metadata": {},
     "output_type": "execute_result"
    }
   ],
   "source": [
    "pk_house.isnull().sum()"
   ]
  },
  {
   "cell_type": "markdown",
   "metadata": {},
   "source": [
    "无缺失值"
   ]
  },
  {
   "cell_type": "markdown",
   "metadata": {},
   "source": [
    "### 根据一般性常识快速观测数据并且删选离群点"
   ]
  },
  {
   "cell_type": "code",
   "execution_count": 12,
   "metadata": {
    "collapsed": false
   },
   "outputs": [
    {
     "data": {
      "text/plain": [
       "<matplotlib.collections.PathCollection at 0xc755828>"
      ]
     },
     "execution_count": 12,
     "metadata": {},
     "output_type": "execute_result"
    },
    {
     "data": {
      "image/png": "[encoded data removed]",
      "text/plain": [
       "<matplotlib.figure.Figure at 0xc417e48>"
      ]
     },
     "metadata": {},
     "output_type": "display_data"
    }
   ],
   "source": [
    "\n",
    "## 试看面积与价格是否有相关关系\n",
    "plt.scatter(pk_house['Area'], pk_house['Value'])\n"
   ]
  },
  {
   "cell_type": "markdown",
   "metadata": {},
   "source": [
    "面积和价格也有几个离群点，可以看到最上面的点代表非常大而且非常贵的一个豪宅，还有一个很大但是不是很贵（可能是郊区厂房），这些离群点非常直观，而且不会超过数据的5%， 因此都可以直接从训练集里删除。"
   ]
  },
  {
   "cell_type": "code",
   "execution_count": 13,
   "metadata": {
    "collapsed": false
   },
   "outputs": [
    {
     "data": {
      "text/plain": [
       "<matplotlib.collections.PathCollection at 0xc9710f0>"
      ]
     },
     "execution_count": 13,
     "metadata": {},
     "output_type": "execute_result"
    },
    {
     "data": {
      "image/png": "[encoded data removed]",
      "text/plain": [
       "<matplotlib.figure.Figure at 0xc8057b8>"
      ]
     },
     "metadata": {},
     "output_type": "display_data"
    }
   ],
   "source": [
    "## 试看年份与价格是否有何关系\n",
    "\n",
    "plt.scatter(pk_house['Year'], pk_house['Value'])"
   ]
  },
  {
   "cell_type": "markdown",
   "metadata": {},
   "source": [
    "可以发现年份存在离群点，建筑年份是公元1000年，难道现在帝都现在还有北宋时期的建筑？因此这个肯定为离群点，可以直接删除。"
   ]
  },
  {
   "cell_type": "markdown",
   "metadata": {},
   "source": [
    "再看一下价格分布。假设我是一个房产中介，如果我一直参考5000万以上的豪宅来学习大众房产价格的话，我的估价经验也会走向歧途。豪宅的价格带有更多的因素，很多是主管的，这对我了解大众房产市场帮助有限。因此应刨去右尾的极端情况。"
   ]
  },
  {
   "cell_type": "code",
   "execution_count": 14,
   "metadata": {
    "collapsed": false
   },
   "outputs": [],
   "source": [
    "# 大于600平米的房产\n",
    "pk_house = pk_house.drop( pk_house[pk_house['Area'] > 600].index )\n",
    "\n",
    "# 1000年前的住宅\n",
    "pk_house = pk_house.drop( pk_house[pk_house['Year'] < 1200].index )\n",
    "\n",
    "# 价格超过5000的豪宅\n",
    "pk_house = pk_house.drop( pk_house[pk_house['Value'] > 5000].index )"
   ]
  },
  {
   "cell_type": "markdown",
   "metadata": {},
   "source": [
    "\n",
    "#### 价格和面积是连续性变量，可通过对数转置可以使数据减少方差\n"
   ]
  },
  {
   "cell_type": "code",
   "execution_count": 15,
   "metadata": {
    "collapsed": true
   },
   "outputs": [],
   "source": [
    "# 对数转置\n",
    "\n",
    "pk_house['Area'] = np.log(pk_house['Area'])\n",
    "pk_house['Value'] = np.log(pk_house['Value'])"
   ]
  },
  {
   "cell_type": "code",
   "execution_count": 16,
   "metadata": {
    "collapsed": false
   },
   "outputs": [
    {
     "data": {
      "text/plain": [
       "<matplotlib.axes._subplots.AxesSubplot at 0xd6d4a90>"
      ]
     },
     "execution_count": 16,
     "metadata": {},
     "output_type": "execute_result"
    },
    {
     "data": {
      "image/png": "[encoded data removed]",
      "text/plain": [
       "<matplotlib.figure.Figure at 0xc97fe10>"
      ]
     },
     "metadata": {},
     "output_type": "display_data"
    }
   ],
   "source": [
    "# 查看转置后分布\n",
    "\n",
    "import seaborn as sns\n",
    "\n",
    "sns.distplot(pk_house['Value'])"
   ]
  },
  {
   "cell_type": "markdown",
   "metadata": {},
   "source": [
    "#### 经过转置后看起来价格更像是正态分布，可以用Jarque Bera 进行正态分布假设检验，这里就不检验了。可以看出右尾较长。"
   ]
  },
  {
   "cell_type": "code",
   "execution_count": 17,
   "metadata": {
    "collapsed": true
   },
   "outputs": [],
   "source": [
    "df = pk_house"
   ]
  },
  {
   "cell_type": "code",
   "execution_count": 18,
   "metadata": {
    "collapsed": false
   },
   "outputs": [
    {
     "data": {
      "text/html": [
       "<div>\n",
       "<table border=\"1\" class=\"dataframe\">\n",
       "  <thead>\n",
       "    <tr style=\"text-align: right;\">\n",
       "      <th></th>\n",
       "      <th>Area</th>\n",
       "      <th>Value</th>\n",
       "      <th>Room</th>\n",
       "      <th>Living</th>\n",
       "      <th>School</th>\n",
       "      <th>Year</th>\n",
       "      <th>Floor</th>\n",
       "    </tr>\n",
       "  </thead>\n",
       "  <tbody>\n",
       "    <tr>\n",
       "      <th>0</th>\n",
       "      <td>4.852030</td>\n",
       "      <td>5.913503</td>\n",
       "      <td>3</td>\n",
       "      <td>1</td>\n",
       "      <td>1</td>\n",
       "      <td>2004</td>\n",
       "      <td>21</td>\n",
       "    </tr>\n",
       "    <tr>\n",
       "      <th>1</th>\n",
       "      <td>4.219508</td>\n",
       "      <td>5.799093</td>\n",
       "      <td>1</td>\n",
       "      <td>2</td>\n",
       "      <td>1</td>\n",
       "      <td>2000</td>\n",
       "      <td>6</td>\n",
       "    </tr>\n",
       "    <tr>\n",
       "      <th>2</th>\n",
       "      <td>4.828314</td>\n",
       "      <td>5.872118</td>\n",
       "      <td>3</td>\n",
       "      <td>2</td>\n",
       "      <td>0</td>\n",
       "      <td>2003</td>\n",
       "      <td>5</td>\n",
       "    </tr>\n",
       "    <tr>\n",
       "      <th>3</th>\n",
       "      <td>4.859812</td>\n",
       "      <td>5.627621</td>\n",
       "      <td>2</td>\n",
       "      <td>2</td>\n",
       "      <td>0</td>\n",
       "      <td>2005</td>\n",
       "      <td>16</td>\n",
       "    </tr>\n",
       "    <tr>\n",
       "      <th>4</th>\n",
       "      <td>4.770685</td>\n",
       "      <td>5.828946</td>\n",
       "      <td>3</td>\n",
       "      <td>2</td>\n",
       "      <td>0</td>\n",
       "      <td>2003</td>\n",
       "      <td>6</td>\n",
       "    </tr>\n",
       "  </tbody>\n",
       "</table>\n",
       "</div>"
      ],
      "text/plain": [
       "       Area     Value  Room  Living  School  Year  Floor\n",
       "0  4.852030  5.913503     3       1       1  2004     21\n",
       "1  4.219508  5.799093     1       2       1  2000      6\n",
       "2  4.828314  5.872118     3       2       0  2003      5\n",
       "3  4.859812  5.627621     2       2       0  2005     16\n",
       "4  4.770685  5.828946     3       2       0  2003      6"
      ]
     },
     "execution_count": 18,
     "metadata": {},
     "output_type": "execute_result"
    }
   ],
   "source": [
    "df.head()"
   ]
  },
  {
   "cell_type": "code",
   "execution_count": 19,
   "metadata": {
    "collapsed": true
   },
   "outputs": [],
   "source": [
    "x = df[['Area','Room','Living','School','Year','Floor']]\n",
    "y = df['Value']"
   ]
  },
  {
   "cell_type": "code",
   "execution_count": 28,
   "metadata": {
    "collapsed": false
   },
   "outputs": [],
   "source": [
    "from sklearn.cross_validation import KFold\n",
    "from sklearn.linear_model import Lasso\n",
    "from sklearn.metrics import mean_squared_error\n",
    "from sklearn.preprocessing import PolynomialFeatures\n",
    "from sklearn.grid_search import GridSearchCV\n",
    "from sklearn.cross_validation import train_test_split\n",
    "\n",
    "# 采用Lasso回归创建模型\n",
    "def build_model(x,y):\n",
    "    Kfold = KFold(y.shape[0], n_folds = 5)\n",
    "    model = Lasso(normalize=True)\n",
    "    coeffiecients = []\n",
    "    \n",
    "    #设定alpha取值范围\n",
    "    alpha_range = np.linspace(0.0015,0.0017,30)\n",
    "    grid_param = {\"alpha\":alpha_range}\n",
    "    \n",
    "    #交叉验证\n",
    "    grid = GridSearchCV(estimator = model, param_grid = grid_param, cv= Kfold, scoring = 'mean_squared_error')\n",
    "    grid.fit(x,y)\n",
    "    display_param_results(grid.grid_scores_)\n",
    "    print grid.best_params_\n",
    "    return grid.best_estimator_\n",
    "\n",
    "\n",
    "# 显示模型       \n",
    "def view_model(model):\n",
    "    print \"\\n Model coeffiecients\"\n",
    "    print \"----------------------\"\n",
    "    \n",
    "    for i, coef in enumerate(model.coef_):\n",
    "        print \"\\tCoefficient %d %0.3f\" %(i+1, coef)\n",
    "    print \"\\n\\t Intercept %0.3f\" %(model.intercept_)     \n",
    "    \n",
    "\n",
    "# 显示参数结果   \n",
    "def display_param_results(param_results):\n",
    "    fold = 1\n",
    "    for param_result in param_results:\n",
    "        print \"Fold %d Mean sqaured error %0.2f\" %(fold, abs(param_result[1])),param_result[0]\n",
    "        fold += 1"
   ]
  },
  {
   "cell_type": "code",
   "execution_count": 29,
   "metadata": {
    "collapsed": false
   },
   "outputs": [
    {
     "name": "stdout",
     "output_type": "stream",
     "text": [
      "Fold 1 Mean sqaured error 0.13 {'alpha': 0.0015}\n",
      "Fold 2 Mean sqaured error 0.13 {'alpha': 0.0015068965517241379}\n",
      "Fold 3 Mean sqaured error 0.13 {'alpha': 0.0015137931034482758}\n",
      "Fold 4 Mean sqaured error 0.13 {'alpha': 0.0015206896551724139}\n",
      "Fold 5 Mean sqaured error 0.13 {'alpha': 0.0015275862068965518}\n",
      "Fold 6 Mean sqaured error 0.13 {'alpha': 0.0015344827586206897}\n",
      "Fold 7 Mean sqaured error 0.13 {'alpha': 0.0015413793103448276}\n",
      "Fold 8 Mean sqaured error 0.14 {'alpha': 0.0015482758620689655}\n",
      "Fold 9 Mean sqaured error 0.14 {'alpha': 0.0015551724137931034}\n",
      "Fold 10 Mean sqaured error 0.14 {'alpha': 0.0015620689655172415}\n",
      "Fold 11 Mean sqaured error 0.14 {'alpha': 0.0015689655172413794}\n",
      "Fold 12 Mean sqaured error 0.14 {'alpha': 0.0015758620689655172}\n",
      "Fold 13 Mean sqaured error 0.14 {'alpha': 0.0015827586206896551}\n",
      "Fold 14 Mean sqaured error 0.14 {'alpha': 0.001589655172413793}\n",
      "Fold 15 Mean sqaured error 0.14 {'alpha': 0.0015965517241379309}\n",
      "Fold 16 Mean sqaured error 0.14 {'alpha': 0.001603448275862069}\n",
      "Fold 17 Mean sqaured error 0.14 {'alpha': 0.0016103448275862069}\n",
      "Fold 18 Mean sqaured error 0.14 {'alpha': 0.0016172413793103448}\n",
      "Fold 19 Mean sqaured error 0.14 {'alpha': 0.0016241379310344827}\n",
      "Fold 20 Mean sqaured error 0.14 {'alpha': 0.0016310344827586206}\n",
      "Fold 21 Mean sqaured error 0.14 {'alpha': 0.0016379310344827587}\n",
      "Fold 22 Mean sqaured error 0.14 {'alpha': 0.0016448275862068966}\n",
      "Fold 23 Mean sqaured error 0.14 {'alpha': 0.0016517241379310345}\n",
      "Fold 24 Mean sqaured error 0.14 {'alpha': 0.0016586206896551724}\n",
      "Fold 25 Mean sqaured error 0.14 {'alpha': 0.0016655172413793102}\n",
      "Fold 26 Mean sqaured error 0.14 {'alpha': 0.0016724137931034481}\n",
      "Fold 27 Mean sqaured error 0.14 {'alpha': 0.001679310344827586}\n",
      "Fold 28 Mean sqaured error 0.14 {'alpha': 0.0016862068965517241}\n",
      "Fold 29 Mean sqaured error 0.14 {'alpha': 0.001693103448275862}\n",
      "Fold 30 Mean sqaured error 0.14 {'alpha': 0.0016999999999999999}\n",
      "{'alpha': 0.0015}\n"
     ]
    }
   ],
   "source": [
    "# 区分训练集和测试集\n",
    "x_train, x_test, y_train, y_test = train_test_split(x, y, test_size = 0.3, random_state = 9)\n",
    "\n",
    "# 生成多项式组合形式\n",
    "poly_features = PolynomialFeatures(interaction_only =True)\n",
    "poly_features.fit(x_train)\n",
    "\n",
    "# 将原始训练集和测试集转变为带有多项式格式\n",
    "x_train_poly = poly_features.transform(x_train)\n",
    "x_test_poly = poly_features.transform(x_test)\n",
    "\n",
    "choosen_model = build_model(x_train_poly, y_train)\n",
    "predicted_y = choosen_model.predict(x_test_poly)\n"
   ]
  },
  {
   "cell_type": "code",
   "execution_count": 30,
   "metadata": {
    "collapsed": false
   },
   "outputs": [
    {
     "data": {
      "text/plain": [
       "0.14163457972828145"
      ]
     },
     "execution_count": 30,
     "metadata": {},
     "output_type": "execute_result"
    }
   ],
   "source": [
    "# metrics中的 mean_squared_error 看看误差情况\n",
    "\n",
    "mean_squared_error(y_test, predicted_y)"
   ]
  },
  {
   "cell_type": "markdown",
   "metadata": {},
   "source": [
    "Mean squared error regression loss 为 0.14"
   ]
  },
  {
   "cell_type": "code",
   "execution_count": 31,
   "metadata": {
    "collapsed": false
   },
   "outputs": [
    {
     "data": {
      "text/plain": [
       "array([ 410.54843624])"
      ]
     },
     "execution_count": 31,
     "metadata": {},
     "output_type": "execute_result"
    }
   ],
   "source": [
    "# 测试一下是否 make sense\n",
    "\n",
    "# 假设 150平米，3间卧室， 1个客厅，周围有学校， 2007年建设的10年老房，8楼。\n",
    "\n",
    "z_test = [[np.log(150), 3, 1,1,2007,8]]\n",
    "\n",
    "np.exp(choosen_model.predict(poly_features.transform(z_test)))"
   ]
  },
  {
   "cell_type": "markdown",
   "metadata": {},
   "source": [
    "#### 价格大概410万5千，像是那么回事儿。"
   ]
  },
  {
   "cell_type": "markdown",
   "metadata": {},
   "source": [
    "Lasso回归模型能够用于预测北京的房价，交叉验证能够提高数据集的准确性。"
   ]
  }
 ],
 "metadata": {
  "anaconda-cloud": {},
  "kernelspec": {
   "display_name": "Python [default]",
   "language": "python",
   "name": "python2"
  },
  "language_info": {
   "codemirror_mode": {
    "name": "ipython",
    "version": 2
   },
   "file_extension": ".py",
   "mimetype": "text/x-python",
   "name": "python",
   "nbconvert_exporter": "python",
   "pygments_lexer": "ipython2",
   "version": "2.7.12"
  }
 },
 "nbformat": 4,
 "nbformat_minor": 0
}
